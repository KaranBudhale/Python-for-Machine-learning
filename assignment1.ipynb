{
 "cells": [
  {
   "cell_type": "markdown",
   "metadata": {},
   "source": [
    "# Assignment 1 !"
   ]
  },
  {
   "cell_type": "markdown",
   "metadata": {},
   "source": [
    "1) Write a program which will find all such numbers which are divisible by 7 but are not a multiple\n",
    "of 5, between 2000 and 3200 (both included). The numbers obtained should be printed in a\n",
    "comma-separated sequence on a single line."
   ]
  },
  {
   "cell_type": "code",
   "execution_count": 13,
   "metadata": {},
   "outputs": [
    {
     "name": "stdout",
     "output_type": "stream",
     "text": [
      "2002,2009,2016,2023,2037,2044,2051,2058,2072,2079,2086,2093,2107,2114,2121,2128,2142,2149,2156,2163,2177,2184,2191,2198,2212,2219,2226,2233,2247,2254,2261,2268,2282,2289,2296,2303,2317,2324,2331,2338,2352,2359,2366,2373,2387,2394,2401,2408,2422,2429,2436,2443,2457,2464,2471,2478,2492,2499,2506,2513,2527,2534,2541,2548,2562,2569,2576,2583,2597,2604,2611,2618,2632,2639,2646,2653,2667,2674,2681,2688,2702,2709,2716,2723,2737,2744,2751,2758,2772,2779,2786,2793,2807,2814,2821,2828,2842,2849,2856,2863,2877,2884,2891,2898,2912,2919,2926,2933,2947,2954,2961,2968,2982,2989,2996,3003,3017,3024,3031,3038,3052,3059,3066,3073,3087,3094,3101,3108,3122,3129,3136,3143,3157,3164,3171,3178,3192,3199\n"
     ]
    }
   ],
   "source": [
    "num=[]\n",
    "for i in range (2000,3201):\n",
    "    if (i % 7 == 0 and  i % 5 != 0):\n",
    "        num.append(str (i))\n",
    "    \n",
    "print(','.join(num))\n",
    "    "
   ]
  },
  {
   "cell_type": "markdown",
   "metadata": {},
   "source": [
    "2)Write a Python program to accept the user's first and last name and then getting them printed in\n",
    "the the reverse order with a space between first name and last name."
   ]
  },
  {
   "cell_type": "code",
   "execution_count": 21,
   "metadata": {},
   "outputs": [
    {
     "name": "stdout",
     "output_type": "stream",
     "text": [
      "Input your First Name : \n",
      "Karan\n",
      "Input your Last Name : \n",
      "Budhale\n",
      "\n",
      "******Reversed Name is :*******\n",
      "Budhale Karan\n"
     ]
    }
   ],
   "source": [
    "def Revers_name():\n",
    "    firstname = input(\"Input your First Name : \\n\")\n",
    "    lastname = input(\"Input your Last Name : \\n\")\n",
    "    print (\"\\n******Reversed Name is :*******\\n\"+  lastname + \" \" + firstname)\n",
    "Revers_name()"
   ]
  },
  {
   "cell_type": "markdown",
   "metadata": {},
   "source": [
    "3)Write a Python program to find the volume of a sphere with diameter 12 cm.\n",
    "Formula: V=4/3 * π * r\n",
    "3"
   ]
  },
  {
   "cell_type": "code",
   "execution_count": 24,
   "metadata": {},
   "outputs": [
    {
     "name": "stdout",
     "output_type": "stream",
     "text": [
      "\n",
      "*******Volume of a sphere with diameter 12 cm is ********\n",
      "904.7786842338603 cm3\n"
     ]
    }
   ],
   "source": [
    "import math \n",
    "pi=math.pi\n",
    "Diameter=12\n",
    "r=Diameter/2\n",
    "\n",
    "Volume=4/3*pi*(r**3)\n",
    "\n",
    "print(\"\\n*******Volume of a sphere with diameter 12 cm is ********\\n\"+ str(Volume) +\" cm3\")"
   ]
  },
  {
   "cell_type": "markdown",
   "metadata": {},
   "source": [
    "4) Write a program which accepts a sequence of comma-separated numbers from console and\n",
    "generate a list."
   ]
  },
  {
   "cell_type": "code",
   "execution_count": 28,
   "metadata": {},
   "outputs": [
    {
     "name": "stdout",
     "output_type": "stream",
     "text": [
      "\n",
      "********Please Ener comma-sapareted numbers *********\n",
      "1,2,6,5,7,8,\n",
      "\n",
      "******converted list *******:\n",
      " ['1', '2', '6', '5', '7', '8', '']\n"
     ]
    }
   ],
   "source": [
    "def Generate_list():\n",
    "    sequence=input(\"\\n********Please Ener comma-sapareted numbers *********\\n\")\n",
    "    lst=sequence.split(',')\n",
    "    print(\"\\n******converted list *******:\\n\",lst)\n",
    "Generate_list()"
   ]
  },
  {
   "cell_type": "raw",
   "metadata": {},
   "source": [
    "5)Create the below pattern using nested for loop in Python.\n",
    "*\n",
    "* *\n",
    "* * *\n",
    "* * * *\n",
    "* * * * *\n",
    "* * * *\n",
    "* * *\n",
    "* *\n",
    "*"
   ]
  },
  {
   "cell_type": "code",
   "execution_count": 5,
   "metadata": {},
   "outputs": [
    {
     "name": "stdout",
     "output_type": "stream",
     "text": [
      "Enter the number of columns you need in pattern : 5\n",
      "\n",
      "***********Pattern with 5 column is ***********\n",
      " *\n",
      " * *\n",
      " * * *\n",
      " * * * *\n",
      " * * * * *\n",
      " * * * *\n",
      " * * *\n",
      " * *\n",
      " *\n"
     ]
    }
   ],
   "source": [
    "# To make this code more genergic we can take input from User \n",
    "def Pattern(x):\n",
    "    for i in range(1,x+1):\n",
    "        print(\" *\"*i)\n",
    "    for j in range(x-1,0,-1):\n",
    "        print(\" *\"*j)\n",
    "Columns=int(input(\"Enter the number of columns you need in pattern : \"))\n",
    "print(\"\\n***********Pattern with {} column is ***********\".format(Columns))\n",
    "Pattern(Columns)      "
   ]
  },
  {
   "cell_type": "markdown",
   "metadata": {},
   "source": [
    "6)Write a Python program to reverse a word after accepting the input from the user.\n",
    "\n",
    "Sample Output:\n",
    "\n",
    "*Input word: Ineuron*\n",
    "\n",
    "*Output: noruenI*"
   ]
  },
  {
   "cell_type": "code",
   "execution_count": 4,
   "metadata": {},
   "outputs": [
    {
     "name": "stdout",
     "output_type": "stream",
     "text": [
      "Please enter any word : Karan\n",
      "Original Word :  Karan\n",
      "\n",
      "******Reversed Word***** : \n",
      " naraK\n"
     ]
    }
   ],
   "source": [
    "def Reverse_word():\n",
    "    word=input(\"Please enter any word : \")\n",
    "    reversed_word=word[::-1]\n",
    "    print(\"Original Word : \",word)\n",
    "    print(\"\\n******Reversed Word***** : \\n\",reversed_word)\n",
    "Reverse_word()"
   ]
  },
  {
   "cell_type": "markdown",
   "metadata": {},
   "source": [
    "7. \n",
    "Write a Python Program to print the given string in the format specified in the sample output.\n",
    "\n",
    "WE, THE PEOPLE OF INDIA, having solemnly resolved to constitute India into a SOVEREIGN, SOCIALIST, SECULAR, DEMOCRATIC REPUBLIC and to secure to all its citizens \n",
    "\n",
    "Sample Output: \n",
    "\n",
    "WE, THE PEOPLE OF INDIA, \n",
    "\n",
    "      having solemnly resolved to constitute India into a SOVEREIGN,!         \n",
    "      \n",
    "               SOCIALIST, SECULAR, DEMOCRATIC REPUBLIC     \n",
    "               \n",
    "               and to secure to all its citizens\n",
    "\n"
   ]
  },
  {
   "cell_type": "code",
   "execution_count": 34,
   "metadata": {},
   "outputs": [
    {
     "name": "stdout",
     "output_type": "stream",
     "text": [
      "WE, THE PEOPLE OF INDIA,\n",
      "\n",
      "\thaving solemnly resolved to constitute India into a SOVEREIGN,!\n",
      "\n",
      "\t\tSOCIALIST, SECULAR, DEMOCRATIC REPUBLIC\n",
      "\n",
      "\t\tand to secure to all its citizens\n"
     ]
    }
   ],
   "source": [
    "string = \"WE, THE PEOPLE OF INDIA,{}having solemnly resolved to constitute India into a \n",
    "SOVEREIGN,{}SOCIALIST, SECULAR, DEMOCRATIC REPUBLIC{}and to secure to all its citizens\"\n",
    "print(string.format('\\n\\n\\t','!\\n\\n\\t\\t','\\n\\n\\t\\t'))"
   ]
  },
  {
   "cell_type": "code",
   "execution_count": null,
   "metadata": {},
   "outputs": [],
   "source": []
  }
 ],
 "metadata": {
  "kernelspec": {
   "display_name": "Python 3",
   "language": "python",
   "name": "python3"
  },
  "language_info": {
   "codemirror_mode": {
    "name": "ipython",
    "version": 3
   },
   "file_extension": ".py",
   "mimetype": "text/x-python",
   "name": "python",
   "nbconvert_exporter": "python",
   "pygments_lexer": "ipython3",
   "version": "3.7.4"
  }
 },
 "nbformat": 4,
 "nbformat_minor": 2
}
